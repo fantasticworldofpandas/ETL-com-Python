{
 "cells": [
  {
   "cell_type": "markdown",
   "id": "7c1ad5c1-09df-4f52-89cd-7cc6a3da5eef",
   "metadata": {},
   "source": [
    "# <img align=\"left\" src=\"assets/panda.jpeg\" width=\"100\" height=\"100\" style=\"border-radius: 50%; margin-right: 20px\">  \n",
    "# Carteira de pedidos"
   ]
  },
  {
   "cell_type": "markdown",
   "id": "0128aa7a-2db5-4406-9761-a4f2ddc5ed02",
   "metadata": {},
   "source": [
    "> A principal proposta desse projeto é automatizar o tratamento desse relatório para atualizar um dashboard para análise de pedidos de compras dos CDs e Lojas"
   ]
  },
  {
   "cell_type": "markdown",
   "id": "c02f2446-c338-4689-a29a-18dd81b188d3",
   "metadata": {
    "id": "c02f2446-c338-4689-a29a-18dd81b188d3",
    "tags": []
   },
   "source": [
    "### Tratamento para a Base Relatório"
   ]
  },
  {
   "cell_type": "code",
   "execution_count": 239,
   "id": "7b10f356-7213-48c3-839a-78cdc5979dc4",
   "metadata": {
    "id": "7b10f356-7213-48c3-839a-78cdc5979dc4",
    "tags": []
   },
   "outputs": [],
   "source": [
    "# bibliotecas usadas no projeto\n",
    "from datetime import datetime, timedelta\n",
    "import pandas as pd\n",
    "import locale\n",
    "import csv\n",
    "import os"
   ]
  },
  {
   "cell_type": "code",
   "execution_count": 240,
   "id": "629e6219-30fd-4c8d-b6fe-a199282e270a",
   "metadata": {},
   "outputs": [
    {
     "data": {
      "text/plain": [
       "'pt_BR.UTF-8'"
      ]
     },
     "execution_count": 240,
     "metadata": {},
     "output_type": "execute_result"
    }
   ],
   "source": [
    "locale.setlocale(locale.LC_TIME, 'pt_BR.UTF-8')"
   ]
  },
  {
   "cell_type": "code",
   "execution_count": 241,
   "id": "772572b7-e639-41e5-bccb-4483de9b8e2a",
   "metadata": {
    "id": "772572b7-e639-41e5-bccb-4483de9b8e2a",
    "tags": []
   },
   "outputs": [],
   "source": [
    "# caminho dos arquivos txt\n",
    "arquivos_flex = \"Relatorios_pedidos/\""
   ]
  },
  {
   "cell_type": "code",
   "execution_count": 242,
   "id": "6cd6dce6-80ac-4ab4-9728-4e91476b2de6",
   "metadata": {
    "id": "6cd6dce6-80ac-4ab4-9728-4e91476b2de6",
    "tags": []
   },
   "outputs": [],
   "source": [
    "# número de colunas dos arquivos\n",
    "total_colunas = 31"
   ]
  },
  {
   "cell_type": "markdown",
   "id": "26e9a0ed-2677-4ba1-82e5-e791bfa580b0",
   "metadata": {
    "id": "26e9a0ed-2677-4ba1-82e5-e791bfa580b0"
   },
   "source": [
    "### Base de seis relatórios do ERP extraídos no formato txt - r1 ao r6"
   ]
  },
  {
   "cell_type": "code",
   "execution_count": 243,
   "id": "8e7cb93f-e34c-4e7c-b943-9cecb553ff56",
   "metadata": {
    "id": "8e7cb93f-e34c-4e7c-b943-9cecb553ff56",
    "tags": []
   },
   "outputs": [],
   "source": [
    "'''O código abaixo percorre por todos os arquivos no diretório Relatorios_pedidos,\n",
    "primeiro processa o arquivo r1.txt e os demais posteriormente,\n",
    "validando a definição do número de colunas.'''\n",
    "\n",
    "r1_file = os.path.join(arquivos_flex, \"r1.txt\")\n",
    "if os.path.exists(r1_file):\n",
    "    with open(r1_file, \"r\", encoding=\"iso-8859-1\") as infile, open(\"temp.txt\", \"w\", encoding=\"iso-8859-1\", newline=\"\") as outfile:\n",
    "        reader = csv.reader(infile, delimiter=\"|\")\n",
    "        writer = csv.writer(outfile, delimiter=\"|\")\n",
    "\n",
    "        for row in reader:\n",
    "            if len(row) == total_colunas:\n",
    "                writer.writerow(row)\n",
    "\n",
    "# carrega os outros arquivos no diretório\n",
    "for filename in os.listdir(arquivos_flex):\n",
    "    if filename.endswith(\".txt\") and filename != \"r1.txt\":\n",
    "        with open(os.path.join(arquivos_flex, filename), \"r\", encoding=\"iso-8859-1\") as infile, open(\"temp.txt\", \"a\", encoding=\"iso-8859-1\", newline=\"\") as outfile:\n",
    "            reader = csv.reader(infile, delimiter=\"|\")\n",
    "            writer = csv.writer(outfile, delimiter=\"|\")\n",
    "\n",
    "            for row in reader:\n",
    "                if len(row) == total_colunas:\n",
    "                    writer.writerow(row)"
   ]
  },
  {
   "cell_type": "code",
   "execution_count": 244,
   "id": "9c05d55d-c87f-4368-8f4e-32a7cf16bc99",
   "metadata": {
    "id": "9c05d55d-c87f-4368-8f4e-32a7cf16bc99",
    "tags": []
   },
   "outputs": [],
   "source": [
    "# leitura e atribuição do arquivo temp para o objeto \"base\"\n",
    "base = pd.read_csv(\"temp.txt\", sep=\"|\", encoding=\"iso-8859-1\")"
   ]
  },
  {
   "cell_type": "code",
   "execution_count": 245,
   "id": "190df48b-88f1-483c-857c-6c5ac22c39d8",
   "metadata": {
    "id": "190df48b-88f1-483c-857c-6c5ac22c39d8"
   },
   "outputs": [],
   "source": [
    "# ppós isso removi o arquivo temp \n",
    "os.remove(\"temp.txt\")"
   ]
  },
  {
   "cell_type": "code",
   "execution_count": 246,
   "id": "59960009-a3b7-433e-be60-41a236ffe756",
   "metadata": {
    "id": "59960009-a3b7-433e-be60-41a236ffe756",
    "outputId": "b4625e0e-c492-4af4-99ab-31da18ef9381",
    "tags": []
   },
   "outputs": [
    {
     "name": "stdout",
     "output_type": "stream",
     "text": [
      "A Base original atualmente possui 1523283 linhas e 31 colunas\n"
     ]
    }
   ],
   "source": [
    "# status da base original antes de qualquer tratamento\n",
    "print(\"A Base original atualmente possui {} linhas e {} colunas\".format(base.shape[0], base.shape[1]))"
   ]
  },
  {
   "cell_type": "markdown",
   "id": "525e3ec3-1b76-45b7-9fda-79bcd3798145",
   "metadata": {
    "id": "525e3ec3-1b76-45b7-9fda-79bcd3798145",
    "tags": []
   },
   "source": [
    "### Relatório de pedidos com status cancelados"
   ]
  },
  {
   "cell_type": "code",
   "execution_count": 247,
   "id": "50fd6b6a-e12b-4e14-809e-18d5f5b91570",
   "metadata": {
    "id": "50fd6b6a-e12b-4e14-809e-18d5f5b91570",
    "tags": []
   },
   "outputs": [],
   "source": [
    "# leitura da base de pedidos cancelados\n",
    "base_c = pd.read_csv(\"Relatorio_cancelados/cancelados.txt\", sep=\"|\", encoding=\"iso-8859-1\", low_memory=False)"
   ]
  },
  {
   "cell_type": "code",
   "execution_count": 248,
   "id": "4057634d-7354-48ae-9799-5bfa1392c14e",
   "metadata": {
    "id": "4057634d-7354-48ae-9799-5bfa1392c14e",
    "tags": []
   },
   "outputs": [],
   "source": [
    "# merge da \"base\" com a \"base_cancelados\"\n",
    "base = base.merge(base_c[[\"Número\", \"St\"]], left_on=\"Num Pedido\", right_on=\"Número\", how=\"left\")"
   ]
  },
  {
   "cell_type": "markdown",
   "id": "4593563d",
   "metadata": {},
   "source": [
    "### Relatório de pedidos com status pendente"
   ]
  },
  {
   "cell_type": "code",
   "execution_count": 249,
   "id": "fbbb1489-a93f-49d7-b78b-a54b2ab09042",
   "metadata": {
    "id": "fbbb1489-a93f-49d7-b78b-a54b2ab09042",
    "tags": []
   },
   "outputs": [],
   "source": [
    "# leitura da base de pedidos pendentes\n",
    "base_p = pd.read_csv(\"Relatorio_pendentes/pendentes.txt\", sep=\"|\", encoding=\"iso-8859-1\", low_memory=False)"
   ]
  },
  {
   "cell_type": "code",
   "execution_count": 250,
   "id": "8a3b3849-73b9-4f37-b41a-9118ca7ed375",
   "metadata": {
    "id": "8a3b3849-73b9-4f37-b41a-9118ca7ed375",
    "tags": []
   },
   "outputs": [],
   "source": [
    "# merge da \"base\" com a \"base_pendentes\"\n",
    "base = base.merge(base_p[[\"Número\", \"Autorização\"]], left_on=\"Num Pedido\", right_on=\"Número\", how=\"left\")"
   ]
  },
  {
   "cell_type": "code",
   "execution_count": 251,
   "id": "c6e5bf2f-42ee-4ec5-b798-646210a4319a",
   "metadata": {
    "id": "c6e5bf2f-42ee-4ec5-b798-646210a4319a",
    "tags": []
   },
   "outputs": [
    {
     "data": {
      "text/plain": [
       "St\n",
       "False    1323156\n",
       "True      200127\n",
       "Name: count, dtype: int64"
      ]
     },
     "execution_count": 251,
     "metadata": {},
     "output_type": "execute_result"
    }
   ],
   "source": [
    "# quantidade de linhas com pedidos cancelados: \"True\"\n",
    "base_linhas_st = (base[\"St\"] == \"C\").value_counts()\n",
    "base_linhas_st"
   ]
  },
  {
   "cell_type": "code",
   "execution_count": 252,
   "id": "6f35cdc3-9d60-4367-b323-b5e4ee557bc0",
   "metadata": {
    "id": "6f35cdc3-9d60-4367-b323-b5e4ee557bc0",
    "tags": []
   },
   "outputs": [],
   "source": [
    "# removi da base todos os pedidos com status \"C\" de cancelado\n",
    "base_relatorio = base.drop(base[base[\"St\"] == \"C\"].index)"
   ]
  },
  {
   "cell_type": "code",
   "execution_count": 253,
   "id": "c1f69d82-264b-4fc6-87d2-c89852cfcedb",
   "metadata": {},
   "outputs": [
    {
     "name": "stdout",
     "output_type": "stream",
     "text": [
      "Base após remover pedidos cancelados: (1323156, 35)\n"
     ]
    }
   ],
   "source": [
    "# status da base\n",
    "print(\"Base após remover pedidos cancelados: \" + str(base_relatorio.shape))"
   ]
  },
  {
   "cell_type": "code",
   "execution_count": 254,
   "id": "cadfaa1c-2c48-427f-b083-500e3dd5c75b",
   "metadata": {
    "id": "cadfaa1c-2c48-427f-b083-500e3dd5c75b",
    "tags": []
   },
   "outputs": [
    {
     "data": {
      "text/plain": [
       "Autorização\n",
       "False    1521078\n",
       "True        2205\n",
       "Name: count, dtype: int64"
      ]
     },
     "execution_count": 254,
     "metadata": {},
     "output_type": "execute_result"
    }
   ],
   "source": [
    "# quantidade de linhas com pedidos pendentes: 'True'\n",
    "base_linhas_pend = (base[\"Autorização\"] == \"P\").value_counts()\n",
    "base_linhas_pend"
   ]
  },
  {
   "cell_type": "code",
   "execution_count": 255,
   "id": "92580a4d-170a-4349-b6d7-fbb98b60e965",
   "metadata": {
    "id": "92580a4d-170a-4349-b6d7-fbb98b60e965",
    "tags": []
   },
   "outputs": [],
   "source": [
    "# removi da base todos os pedidos com status \"P\" de pendentes\n",
    "base_relatorio = base_relatorio.drop(base_relatorio[base_relatorio[\"Autorização\"] == \"P\"].index)"
   ]
  },
  {
   "cell_type": "code",
   "execution_count": 256,
   "id": "cea71af7-ce44-4156-bc87-05f81af8b372",
   "metadata": {
    "id": "cea71af7-ce44-4156-bc87-05f81af8b372",
    "outputId": "2abed432-b8b7-4f8f-b85c-c9ad2a4f0a83",
    "tags": []
   },
   "outputs": [
    {
     "name": "stdout",
     "output_type": "stream",
     "text": [
      "Base após remover pedidos pendentes: (1320951, 35)\n"
     ]
    }
   ],
   "source": [
    "# status da base\n",
    "print(\"Base após remover pedidos pendentes: \" + str(base_relatorio.shape))"
   ]
  },
  {
   "cell_type": "code",
   "execution_count": 257,
   "id": "0349a2b1-ffa5-41ba-8bf2-25dc03c77583",
   "metadata": {
    "id": "0349a2b1-ffa5-41ba-8bf2-25dc03c77583",
    "tags": []
   },
   "outputs": [],
   "source": [
    "# exclusão das linhas excedentes dos merges\n",
    "base_relatorio = base_relatorio.drop(\"Unnamed: 30\", axis=1)\n",
    "base_relatorio = base_relatorio.drop(\"Número_x\", axis=1)\n",
    "base_relatorio = base_relatorio.drop(\"St\", axis=1)\n",
    "base_relatorio = base_relatorio.drop(\"Número_y\", axis=1)\n",
    "base_relatorio = base_relatorio.drop(\"Autorização\", axis=1)"
   ]
  },
  {
   "cell_type": "code",
   "execution_count": 258,
   "id": "71f32cfb-d180-4d36-952a-8b3265d405c9",
   "metadata": {},
   "outputs": [
    {
     "name": "stdout",
     "output_type": "stream",
     "text": [
      "Base após remover colunas excedentes: (1320951, 30)\n"
     ]
    }
   ],
   "source": [
    "# status da base\n",
    "print(\"Base após remover colunas excedentes: \" + str(base_relatorio.shape))"
   ]
  },
  {
   "cell_type": "code",
   "execution_count": 259,
   "id": "76b04bfd-bdc5-40af-8e97-c538e7ded6e8",
   "metadata": {
    "id": "76b04bfd-bdc5-40af-8e97-c538e7ded6e8",
    "tags": []
   },
   "outputs": [],
   "source": [
    "# filtro por datas vazias\n",
    "base_relatorio = base_relatorio[pd.isna(base_relatorio[\"Data NFE\"])]"
   ]
  },
  {
   "cell_type": "code",
   "execution_count": 260,
   "id": "9fad491a-720a-4577-9e0e-fc00ee4720e4",
   "metadata": {
    "id": "9fad491a-720a-4577-9e0e-fc00ee4720e4",
    "tags": []
   },
   "outputs": [
    {
     "name": "stdout",
     "output_type": "stream",
     "text": [
      "9\n"
     ]
    }
   ],
   "source": [
    "# número de linhas vazias na coluna Origem\n",
    "numero_de_linhas_com_0 = (base_relatorio[\"Origem\"] == 0).sum()\n",
    "print(numero_de_linhas_com_0)"
   ]
  },
  {
   "cell_type": "code",
   "execution_count": 261,
   "id": "e8ce5080-4407-42fe-b559-18621f4ce868",
   "metadata": {
    "id": "e8ce5080-4407-42fe-b559-18621f4ce868",
    "tags": []
   },
   "outputs": [],
   "source": [
    "# copia o número do pedido quando o valor da coluna \"Origem\" for igual a 0.\n",
    "base_relatorio.loc[base_relatorio[\"Origem\"] == 0, \"Origem\"] = base_relatorio[\"Num Pedido\"]"
   ]
  },
  {
   "cell_type": "code",
   "execution_count": 262,
   "id": "2cdc6e2a-c8e4-4e5c-a06b-0215b54f013e",
   "metadata": {
    "id": "2cdc6e2a-c8e4-4e5c-a06b-0215b54f013e"
   },
   "outputs": [
    {
     "name": "stdout",
     "output_type": "stream",
     "text": [
      "0\n"
     ]
    }
   ],
   "source": [
    "# número de linhas vazias após tratamento deve ser 0\n",
    "numero_de_linhas_com_0 = (base_relatorio[\"Origem\"] == 0).sum()\n",
    "print(numero_de_linhas_com_0)"
   ]
  },
  {
   "cell_type": "code",
   "execution_count": 263,
   "id": "3732df8c-ac59-42d6-8f8c-c92d9680228d",
   "metadata": {
    "id": "3732df8c-ac59-42d6-8f8c-c92d9680228d",
    "tags": []
   },
   "outputs": [],
   "source": [
    "# conversão das colunas para objetos de Data.\n",
    "base_relatorio[\"Data\"] = pd.to_datetime(base_relatorio[\"Data\"], format=\"%d/%m/%Y\", errors=\"coerce\")\n",
    "base_relatorio[\"Previsao\"] = pd.to_datetime(base_relatorio[\"Previsao\"], format=\"%d/%m/%Y\", errors=\"coerce\")\n",
    "base_relatorio[\"Data Baixa\"] = pd.to_datetime(base_relatorio[\"Data Baixa\"], format=\"%d/%m/%Y\", errors=\"coerce\")"
   ]
  },
  {
   "cell_type": "code",
   "execution_count": 264,
   "id": "9b91b59b-914e-4605-89cf-b58d521cf1d2",
   "metadata": {
    "id": "9b91b59b-914e-4605-89cf-b58d521cf1d2",
    "tags": []
   },
   "outputs": [
    {
     "data": {
      "text/plain": [
       "Forma Aquisicao\n",
       "CC    44315\n",
       "SI    27924\n",
       "DT    24443\n",
       "CD    23581\n",
       "Name: count, dtype: int64"
      ]
     },
     "execution_count": 264,
     "metadata": {},
     "output_type": "execute_result"
    }
   ],
   "source": [
    "# consulta de pedidos por forma de aquisicao\n",
    "base_linhas_FA = (base_relatorio[\"Forma Aquisicao\"]).value_counts()\n",
    "base_linhas_FA"
   ]
  },
  {
   "cell_type": "code",
   "execution_count": 265,
   "id": "97da870e-05d7-46d2-a965-c86c0f43456c",
   "metadata": {
    "id": "97da870e-05d7-46d2-a965-c86c0f43456c",
    "tags": []
   },
   "outputs": [],
   "source": [
    "# removendo os dados da coluna Forma Aquisicao.\n",
    "base_relatorio[\"Forma Aquisicao\"] = ''"
   ]
  },
  {
   "cell_type": "code",
   "execution_count": 266,
   "id": "7838a5e2-114e-49cf-941f-d8010db32285",
   "metadata": {
    "id": "7838a5e2-114e-49cf-941f-d8010db32285",
    "tags": []
   },
   "outputs": [],
   "source": [
    "# conversão da coluna ao tipo float.\n",
    "base_relatorio[\"Valor\"] = base_relatorio[\"Valor\"].str.replace(\".\", \"\").str.replace(\",\", \".\").astype(float)"
   ]
  },
  {
   "cell_type": "code",
   "execution_count": 267,
   "id": "5e6a9516-a9fe-4cf3-b092-263dc41f7171",
   "metadata": {
    "id": "5e6a9516-a9fe-4cf3-b092-263dc41f7171",
    "tags": []
   },
   "outputs": [],
   "source": [
    "# ordena a coluna \"Valor\" do maior para o menor valor\n",
    "base_relatorio = base_relatorio.sort_values(by=\"Valor\", ascending=False)"
   ]
  },
  {
   "cell_type": "code",
   "execution_count": 268,
   "id": "d44e35c5-67fc-4945-a917-1b9333a1aa09",
   "metadata": {
    "id": "d44e35c5-67fc-4945-a917-1b9333a1aa09",
    "outputId": "0c953b54-90ce-4769-f1b2-5c454cb3eb5d",
    "tags": []
   },
   "outputs": [
    {
     "name": "stdout",
     "output_type": "stream",
     "text": [
      "A base_relatorio atualmente possui 120263 linhas e 30 colunas\n"
     ]
    }
   ],
   "source": [
    "# status da base\n",
    "print(\"A base_relatorio atualmente possui {} linhas e {} colunas\".format(base_relatorio.shape[0], base_relatorio.shape[1]))"
   ]
  },
  {
   "cell_type": "code",
   "execution_count": 269,
   "id": "6da5ce0d-b509-4446-a7de-c50161a9a07e",
   "metadata": {
    "id": "6da5ce0d-b509-4446-a7de-c50161a9a07e",
    "tags": []
   },
   "outputs": [],
   "source": [
    "# função para criar a coluna \"Chave\" no dataframe com base na validação abaixo\n",
    "def criar_chave(row):\n",
    "    if pd.notna(row[\"Origem\"]):\n",
    "        origem_str = str(int(row[\"Origem\"]))  # conversões para string\n",
    "        cod_produto_str = str(row[\"Cod. Produto\"])\n",
    "        return origem_str + cod_produto_str\n",
    "    else:\n",
    "        num_pedido_str = str(row[\"Num Pedido\"])\n",
    "        cod_produto_str = str(row[\"Cod. Produto\"])\n",
    "        return num_pedido_str + cod_produto_str"
   ]
  },
  {
   "cell_type": "code",
   "execution_count": 270,
   "id": "75b1c63b-0687-47a9-93a8-ffd8e1d3468d",
   "metadata": {
    "id": "75b1c63b-0687-47a9-93a8-ffd8e1d3468d",
    "tags": []
   },
   "outputs": [],
   "source": [
    "# cria a nova coluna \"Chave\" aplicando a função a cada linha do dataframe\n",
    "base_relatorio[\"Chave\"] = base_relatorio.apply(criar_chave, axis=1)"
   ]
  },
  {
   "cell_type": "code",
   "execution_count": 271,
   "id": "1f53d206-8a1e-4bce-b88d-7759348da0b5",
   "metadata": {
    "id": "1f53d206-8a1e-4bce-b88d-7759348da0b5",
    "tags": []
   },
   "outputs": [],
   "source": [
    "# reordenação de colunas\n",
    "colunas = base_relatorio.columns.tolist()\n",
    "colunas = [\"Chave\"] + [coluna for coluna in colunas if coluna != \"Chave\"]\n",
    "base_relatorio = base_relatorio[colunas]"
   ]
  },
  {
   "cell_type": "code",
   "execution_count": 272,
   "id": "87dcbe9f-28d1-4512-af6a-13a499a709d6",
   "metadata": {
    "id": "87dcbe9f-28d1-4512-af6a-13a499a709d6",
    "tags": []
   },
   "outputs": [],
   "source": [
    "# base pendentes.txt\n",
    "base_p = pd.read_csv(\"Relatorio_pendentes/pendentes.txt\", sep=\"|\", encoding=\"iso8859-1\", low_memory=False)"
   ]
  },
  {
   "cell_type": "code",
   "execution_count": 273,
   "id": "81fb183d-4abe-40d1-aad3-aefafb154e60",
   "metadata": {
    "id": "81fb183d-4abe-40d1-aad3-aefafb154e60",
    "tags": []
   },
   "outputs": [],
   "source": [
    "# merge com a coluna \"Dcto\" da base pendentes.txt\n",
    "base_relatorio = base_relatorio.merge(base_p[[\"Número\", \"Dcto\"]], left_on=\"Num Pedido\", right_on=\"Número\", how=\"left\")"
   ]
  },
  {
   "cell_type": "code",
   "execution_count": 274,
   "id": "8462d0d8-f495-482a-9851-48f452920122",
   "metadata": {
    "id": "8462d0d8-f495-482a-9851-48f452920122"
   },
   "outputs": [],
   "source": [
    "# merge com a coluna \"Nome Usuário\" da base pendentes.txt\n",
    "base_relatorio = base_relatorio.merge(base_p[[\"Número\", \"Nome Usuário\"]], left_on=\"Num Pedido\", right_on=\"Número\", how=\"left\")"
   ]
  },
  {
   "cell_type": "code",
   "execution_count": 275,
   "id": "32ef983b-3454-4ece-b24c-39bcc9b13a13",
   "metadata": {
    "id": "32ef983b-3454-4ece-b24c-39bcc9b13a13",
    "tags": []
   },
   "outputs": [],
   "source": [
    "# reordenação de colunas\n",
    "colunas = list(base_relatorio.columns)\n",
    "colunas.remove(\"Dcto\")\n",
    "colunas.insert(colunas.index(\"Chave\") + 1, \"Dcto\")\n",
    "base_relatorio = base_relatorio[colunas]"
   ]
  },
  {
   "cell_type": "code",
   "execution_count": 276,
   "id": "359e3071-9fe4-4902-bcd6-ed7df49e465c",
   "metadata": {
    "id": "359e3071-9fe4-4902-bcd6-ed7df49e465c",
    "tags": []
   },
   "outputs": [],
   "source": [
    "# função para determinar o valor da coluna \"Tipo Pedido\" com base na validação\n",
    "def determinar_tipo_pedido(row):\n",
    "    if \"7078\" in str(row[\"Dcto\"]) or \"7069\" in str(row[\"Dcto\"]) or \"7709\" in str(row[\"Dcto\"]):\n",
    "        return \"Automatico\"\n",
    "    else:\n",
    "        return \"Manual\""
   ]
  },
  {
   "cell_type": "code",
   "execution_count": 277,
   "id": "b498ea4e-3df7-4836-9c79-172edfc78b90",
   "metadata": {
    "id": "b498ea4e-3df7-4836-9c79-172edfc78b90",
    "tags": []
   },
   "outputs": [],
   "source": [
    "# cria a nova coluna \"Tipo Pedido\" aplicando a função \"determinar_tipo_pedido\" do dataframe\n",
    "base_relatorio[\"Tipo Pedido\"] = base_relatorio.apply(determinar_tipo_pedido, axis=1)"
   ]
  },
  {
   "cell_type": "code",
   "execution_count": 278,
   "id": "02d51ac0-8c6e-456d-bd6e-16c89d7d3e5f",
   "metadata": {
    "id": "02d51ac0-8c6e-456d-bd6e-16c89d7d3e5f",
    "tags": []
   },
   "outputs": [],
   "source": [
    "# reordenação de colunas\n",
    "colunas = list(base_relatorio.columns)\n",
    "colunas.remove(\"Tipo Pedido\")\n",
    "colunas.insert(colunas.index(\"Dcto\") + 1, \"Tipo Pedido\")\n",
    "base_relatorio = base_relatorio[colunas]"
   ]
  },
  {
   "cell_type": "code",
   "execution_count": 279,
   "id": "24ffa4ae-483d-4b83-b7af-4e2e36474ecc",
   "metadata": {},
   "outputs": [],
   "source": [
    "# converte as colunas para string e tratar NaNs\n",
    "base_relatorio['Num Pedido'] = base_relatorio['Num Pedido'].astype(str)\n",
    "base_relatorio['Origem'] = base_relatorio['Origem'].fillna('nan').apply(lambda x: str(int(x)) if x != 'nan' else 'nan')"
   ]
  },
  {
   "cell_type": "code",
   "execution_count": 282,
   "id": "d663ed6a-12aa-4dfa-8cef-e41fdd2e98a5",
   "metadata": {},
   "outputs": [],
   "source": [
    "# identificar os números de pedidos que aparecem em ambas as colunas\n",
    "pedidos_repetidos = set(base_relatorio['Num Pedido']).intersection(set(base_relatorio['Origem']))"
   ]
  },
  {
   "cell_type": "code",
   "execution_count": 283,
   "id": "61201341-45e4-4cd4-b369-dd2af7f0c965",
   "metadata": {
    "id": "61201341-45e4-4cd4-b369-dd2af7f0c965",
    "tags": []
   },
   "outputs": [],
   "source": [
    "# função para determinar o valor da coluna \"Classificacao Pedido\" com base na validação\n",
    "def classificar_pedidos(row):\n",
    "    num_pedido_str = str(row['Num Pedido']) # definição para a função que classifica cada linha\n",
    "    origem_str = 'nan' if pd.isna(row['Origem']) else str(row['Origem'])\n",
    "\n",
    "    if num_pedido_str in pedidos_repetidos:\n",
    "        return 'Saldo'\n",
    "    elif origem_str == 'nan':\n",
    "        return 'Original'\n",
    "    else:\n",
    "        return 'Saldo'"
   ]
  },
  {
   "cell_type": "code",
   "execution_count": 284,
   "id": "72e65f1b-8986-47d9-9ac9-aaa9d4d0c95b",
   "metadata": {
    "id": "72e65f1b-8986-47d9-9ac9-aaa9d4d0c95b",
    "tags": []
   },
   "outputs": [],
   "source": [
    "# cria a nova coluna \"Classificacao Pedido\" aplicando a função a cada linha do dataframe\n",
    "base_relatorio[\"Classificacao Pedido\"] = base_relatorio.apply(classificar_pedidos, axis=1)"
   ]
  },
  {
   "cell_type": "code",
   "execution_count": 285,
   "id": "22bc7b8e-c24f-483d-afbb-022d479b1316",
   "metadata": {
    "id": "22bc7b8e-c24f-483d-afbb-022d479b1316",
    "tags": []
   },
   "outputs": [],
   "source": [
    "# reordenação de colunas\n",
    "colunas = list(base_relatorio.columns)\n",
    "colunas.remove(\"Classificacao Pedido\")\n",
    "colunas.insert(colunas.index(\"Tipo Pedido\") + 1, \"Classificacao Pedido\")\n",
    "base_relatorio = base_relatorio[colunas]"
   ]
  },
  {
   "cell_type": "code",
   "execution_count": 286,
   "id": "49821c60-2514-4c41-8ff7-0738686a2aae",
   "metadata": {
    "id": "49821c60-2514-4c41-8ff7-0738686a2aae",
    "tags": []
   },
   "outputs": [],
   "source": [
    "# reordenação de colunas\n",
    "colunas = list(base_relatorio.columns)\n",
    "colunas.remove(\"Nome Usuário\")\n",
    "colunas.insert(colunas.index(\"Classificacao Pedido\") + 1, \"Nome Usuário\")\n",
    "base_relatorio = base_relatorio[colunas]"
   ]
  },
  {
   "cell_type": "code",
   "execution_count": 287,
   "id": "28725913-96c7-4ddc-8abd-8a41fb00cd17",
   "metadata": {
    "id": "28725913-96c7-4ddc-8abd-8a41fb00cd17",
    "tags": []
   },
   "outputs": [],
   "source": [
    "# exclusão de colunas excedentes\n",
    "base_relatorio = base_relatorio.drop(\"Número_x\", axis=1)\n",
    "base_relatorio = base_relatorio.drop(\"Número_y\", axis=1)"
   ]
  },
  {
   "cell_type": "code",
   "execution_count": 288,
   "id": "035bbc9c-64be-406c-ac55-b05cba59146f",
   "metadata": {
    "id": "035bbc9c-64be-406c-ac55-b05cba59146f",
    "tags": []
   },
   "outputs": [],
   "source": [
    "# colunas para remover duplicatas\n",
    "colunas_chave = ['Nome Usuário', 'Transacao', 'Origem', 'Fornecedor', 'Nome do Fornecedor', 'Data',\n",
    "                 'Previsao', 'Data Baixa', 'Data Criação Agenda', 'Status Agenda', 'Data Agenda',\n",
    "                 'Data NFE', 'Cod. Produto', 'Nome do Produto', 'Marca', 'Num Pedido', 'Unid', 'Qtde',\n",
    "                 'Qtde. Emb', 'Valor', 'Distribuicao', 'Forma Aquisicao', 'Departamento', 'Grupo',\n",
    "                 'Cod. Barras', 'NF-e Chave de Acesso', 'NF-e Transacao', 'NF-e Qtde', 'NF-e Valor',\n",
    "                 'Nº Nota Fiscal', 'Tipo Frete']"
   ]
  },
  {
   "cell_type": "code",
   "execution_count": 289,
   "id": "b1b0d117-8722-47bd-8ecf-f8af780d9e20",
   "metadata": {
    "id": "b1b0d117-8722-47bd-8ecf-f8af780d9e20",
    "outputId": "6cb44d6b-7b5c-4f2b-a6dc-14b2404eb49a",
    "tags": []
   },
   "outputs": [
    {
     "data": {
      "text/plain": [
       "(120263, 35)"
      ]
     },
     "execution_count": 289,
     "metadata": {},
     "output_type": "execute_result"
    }
   ],
   "source": [
    "# status da base \n",
    "base_relatorio.shape"
   ]
  },
  {
   "cell_type": "code",
   "execution_count": 290,
   "id": "a0594537-d27a-4eb5-b059-1ef8526cd542",
   "metadata": {
    "id": "a0594537-d27a-4eb5-b059-1ef8526cd542",
    "tags": []
   },
   "outputs": [],
   "source": [
    "# remove as duplicatas com base nas colunas especificadas na variável colunas_chave\n",
    "base_relatorio = base_relatorio.drop_duplicates(subset=colunas_chave)"
   ]
  },
  {
   "cell_type": "code",
   "execution_count": 291,
   "id": "a18100ae-593e-400e-9f1e-dce83d7c5083",
   "metadata": {
    "id": "a18100ae-593e-400e-9f1e-dce83d7c5083",
    "outputId": "bf9251f7-851d-4a87-93a4-cd58f2534480",
    "tags": []
   },
   "outputs": [
    {
     "data": {
      "text/plain": [
       "(73888, 35)"
      ]
     },
     "execution_count": 291,
     "metadata": {},
     "output_type": "execute_result"
    }
   ],
   "source": [
    "# status da base após remoção de dados duplicados\n",
    "base_relatorio.shape"
   ]
  },
  {
   "cell_type": "code",
   "execution_count": 292,
   "id": "996434b9-2e66-4568-a4e7-9a9579159d31",
   "metadata": {
    "id": "996434b9-2e66-4568-a4e7-9a9579159d31",
    "tags": []
   },
   "outputs": [],
   "source": [
    "# remove as duplicatas com base apenas na coluna \"Chave\"\n",
    "base_relatorio = base_relatorio.drop_duplicates(subset=\"Chave\")"
   ]
  },
  {
   "cell_type": "code",
   "execution_count": 293,
   "id": "c829d8f2-afaa-4c20-a6bc-dbc738c5f315",
   "metadata": {
    "id": "c829d8f2-afaa-4c20-a6bc-dbc738c5f315",
    "outputId": "76e02454-4be9-471d-b6d6-e52f401290ac",
    "tags": []
   },
   "outputs": [
    {
     "data": {
      "text/plain": [
       "(56370, 35)"
      ]
     },
     "execution_count": 293,
     "metadata": {},
     "output_type": "execute_result"
    }
   ],
   "source": [
    "# status da base após remoção de todos os dados duplicados\n",
    "base_relatorio.shape"
   ]
  },
  {
   "cell_type": "code",
   "execution_count": 294,
   "id": "0d917af7-6267-4e07-9cb5-22059e813b6d",
   "metadata": {
    "id": "0d917af7-6267-4e07-9cb5-22059e813b6d",
    "tags": []
   },
   "outputs": [],
   "source": [
    "# exclui as duas colunas abaixo\n",
    "base_relatorio = base_relatorio.drop(\"Chave\", axis=1)\n",
    "base_relatorio = base_relatorio.drop(\"Dcto\", axis=1)"
   ]
  },
  {
   "cell_type": "code",
   "execution_count": 295,
   "id": "ba268862-d791-4ee2-9204-01bde72c9caa",
   "metadata": {
    "id": "ba268862-d791-4ee2-9204-01bde72c9caa",
    "outputId": "aafc1292-db9b-4c76-a5c5-fd9d5460c0f6",
    "tags": []
   },
   "outputs": [
    {
     "name": "stdout",
     "output_type": "stream",
     "text": [
      "A base_relatorio possui 56370 linhas e 33 colunas\n"
     ]
    }
   ],
   "source": [
    "# fim do tratamento base_relatorio\n",
    "print(\"A base_relatorio possui {} linhas e {} colunas\".format(base_relatorio.shape[0], base_relatorio.shape[1]))"
   ]
  },
  {
   "cell_type": "code",
   "execution_count": 296,
   "id": "030a7d02-f626-45ea-829d-d8f0f2544df7",
   "metadata": {
    "id": "030a7d02-f626-45ea-829d-d8f0f2544df7",
    "tags": []
   },
   "outputs": [],
   "source": [
    "# obtém a data atual e inicia tratamento para base_dashboard\n",
    "data_atual = datetime.now()"
   ]
  },
  {
   "cell_type": "code",
   "execution_count": 297,
   "id": "6cb82727-e143-4f18-8109-fea71e531bfc",
   "metadata": {
    "id": "6cb82727-e143-4f18-8109-fea71e531bfc",
    "tags": []
   },
   "outputs": [],
   "source": [
    "# calcula a data com até dois meses anteriores ao mês atual\n",
    "data_limite_2_meses = data_atual - timedelta(days=data_atual.day + 1)\n",
    "data_limite_2_meses = data_limite_2_meses.replace(day=1)"
   ]
  },
  {
   "cell_type": "code",
   "execution_count": 298,
   "id": "530406ec-83ec-44db-8f4e-2036373915fc",
   "metadata": {
    "id": "530406ec-83ec-44db-8f4e-2036373915fc",
    "tags": []
   },
   "outputs": [],
   "source": [
    "# calcula a data com 7 dias inferior ao dia atual\n",
    "data_limite_7_dias = data_atual - timedelta(days=8)"
   ]
  },
  {
   "cell_type": "code",
   "execution_count": 299,
   "id": "2a79e2f2-d6b6-4cd4-a961-c2dc9f0dee3c",
   "metadata": {
    "id": "2a79e2f2-d6b6-4cd4-a961-c2dc9f0dee3c",
    "tags": []
   },
   "outputs": [],
   "source": [
    "''' O código abaixo fará o filtro, excluindo da base as linhas com dados que possui\n",
    "a data de previsao inferior a 7 dias '''\n",
    "\n",
    "base_pedidos = base_relatorio[(base_relatorio['Previsao'] >= data_limite_2_meses) & (base_relatorio['Previsao'] >= data_limite_7_dias)]\n"
   ]
  },
  {
   "cell_type": "code",
   "execution_count": 300,
   "id": "8f7c41ad-29b6-4755-b72f-b589a46f9223",
   "metadata": {
    "id": "8f7c41ad-29b6-4755-b72f-b589a46f9223",
    "tags": []
   },
   "outputs": [],
   "source": [
    "# reatribuição entre dataframes\n",
    "base_relatorio = base_pedidos"
   ]
  },
  {
   "cell_type": "code",
   "execution_count": 301,
   "id": "551aeb83-467e-4f09-a134-aece9e81779a",
   "metadata": {
    "tags": []
   },
   "outputs": [
    {
     "data": {
      "text/plain": [
       "(56067, 33)"
      ]
     },
     "execution_count": 301,
     "metadata": {},
     "output_type": "execute_result"
    }
   ],
   "source": [
    "# status da base\n",
    "base_relatorio.shape"
   ]
  },
  {
   "cell_type": "markdown",
   "id": "54c521f7-ff96-45ad-b6a5-e73523fbaf21",
   "metadata": {},
   "source": [
    "### Tratamento final para dar carga no Dashboard da carteira de pedidos"
   ]
  },
  {
   "cell_type": "code",
   "execution_count": 302,
   "id": "ef4f07b4-8220-4978-a984-a50fd21d9342",
   "metadata": {},
   "outputs": [],
   "source": [
    "# exibe todas as colunas e linhas do DF\n",
    "#pd.options.display.max_columns = None\n",
    "#pd.options.display.max_rows = None"
   ]
  },
  {
   "cell_type": "code",
   "execution_count": 303,
   "id": "ba1a053d-4d19-4287-9d38-042291fa6cf9",
   "metadata": {},
   "outputs": [],
   "source": [
    "# base cadastro SKUs\n",
    "base_cadastro = pd.read_excel('Base_cadastro/base_cadastro.xlsx')"
   ]
  },
  {
   "cell_type": "code",
   "execution_count": 304,
   "id": "0408ae9d-3417-41b9-a422-dba65890e052",
   "metadata": {},
   "outputs": [],
   "source": [
    "# cria a coluna Pedido\n",
    "###base_relatorio['Pedido'] = base_relatorio.apply(lambda row: row['Num Pedido'] if pd.isna(row['Origem']) else row['Origem'], axis=1)\n",
    "base_relatorio['Pedido'] = base_relatorio.apply(lambda row: row['Num Pedido'] if pd.isna(row['Origem']) or row['Origem'] in ['', 'nan'] else row['Origem'], axis=1)"
   ]
  },
  {
   "cell_type": "code",
   "execution_count": 305,
   "id": "d6009748-5f47-47da-9386-8b3c9cbed631",
   "metadata": {
    "tags": []
   },
   "outputs": [],
   "source": [
    "# faz o merge com a base_cadastro\n",
    "base_relatorio = base_relatorio.merge(base_cadastro[[\"ProdutoCodigo\", \"Categoria\"]], right_on=\"ProdutoCodigo\", left_on=\"Cod. Produto\", how=\"left\")"
   ]
  },
  {
   "cell_type": "code",
   "execution_count": 306,
   "id": "606734c8-08d4-44e3-bff8-1413b1856683",
   "metadata": {},
   "outputs": [],
   "source": [
    "# cria a coluna Local_ent\n",
    "base_relatorio.loc[:, 'Local_ent'] = base_relatorio['Unid'].apply(lambda x: 'CD' if x in [3, 61, 745] else 'Loja')\n",
    "#base_relatorio.loc[:, 'Local_ent'] = base_relatorio['Unid'].apply(lambda x: 'CD' if x in [3, 61, 745] else 'Loja').copy()"
   ]
  },
  {
   "cell_type": "code",
   "execution_count": 307,
   "id": "4ffd4cf1-384c-41cb-8e08-e6c826384e97",
   "metadata": {},
   "outputs": [],
   "source": [
    "base_relatorio = base_relatorio.drop(\"Transacao\", axis=1)\n",
    "base_relatorio = base_relatorio.drop(\"Origem\", axis=1)\n",
    "base_relatorio = base_relatorio.drop(\"ProdutoCodigo\", axis=1)\n",
    "base_relatorio = base_relatorio.drop(\"Marca\", axis=1)"
   ]
  },
  {
   "cell_type": "code",
   "execution_count": 308,
   "id": "c4eb9170-d00f-4e2d-bc50-d5e2d21eafdd",
   "metadata": {},
   "outputs": [],
   "source": [
    "# cria coluna grupo certo\n",
    "base_relatorio['Grupo_certo'] = base_relatorio.apply(lambda row: row['Categoria'].capitalize() if pd.notna(row['Categoria']) and row['Grupo'] != row['Categoria'] else row['Grupo'].capitalize(), axis=1)"
   ]
  },
  {
   "cell_type": "code",
   "execution_count": 309,
   "id": "0efe37ec-ea9a-4363-9afe-7f7a577b9e85",
   "metadata": {},
   "outputs": [],
   "source": [
    "# removendo colunas excedentes\n",
    "base_relatorio = base_relatorio.drop(\"Data Criação Agenda\", axis=1)\n",
    "base_relatorio = base_relatorio.drop(\"Status Agenda\", axis=1)\n",
    "base_relatorio = base_relatorio.drop(\"Data Agenda\", axis=1)\n",
    "base_relatorio = base_relatorio.drop(\"Data NFE\", axis=1)\n",
    "base_relatorio = base_relatorio.drop(\"Num Pedido\", axis=1)\n",
    "base_relatorio = base_relatorio.drop(\"Distribuicao\", axis=1)\n",
    "base_relatorio = base_relatorio.drop(\"Forma Aquisicao\", axis=1)\n",
    "base_relatorio = base_relatorio.drop(\"Categoria\", axis=1)\n",
    "base_relatorio = base_relatorio.drop(\"Grupo\", axis=1)\n",
    "base_relatorio = base_relatorio.drop(\"Cod. Barras\", axis=1)\n",
    "base_relatorio = base_relatorio.drop(\"NF-e Chave de Acesso\", axis=1)\n",
    "base_relatorio = base_relatorio.drop(\"NF-e Transacao\", axis=1)\n",
    "base_relatorio = base_relatorio.drop(\"NF-e Qtde\", axis=1)\n",
    "base_relatorio = base_relatorio.drop(\"NF-e Valor\", axis=1)\n",
    "base_relatorio = base_relatorio.drop(\"Nº Nota Fiscal\", axis=1)\n",
    "base_relatorio = base_relatorio.drop(\"Tipo Frete\", axis=1)"
   ]
  },
  {
   "cell_type": "code",
   "execution_count": 310,
   "id": "066f8c15-4efc-4b5d-a44a-f164cc435ade",
   "metadata": {},
   "outputs": [],
   "source": [
    "colunas = ['Pedido', 'Tipo Pedido', 'Classificacao Pedido', 'Local_ent', 'Unid', 'Data', 'Previsao', \n",
    "           'Data Baixa', 'Nome Usuário', 'Fornecedor', 'Nome do Fornecedor', 'Cod. Produto', 'Nome do Produto', \n",
    "           'Departamento', 'Grupo_certo', 'Qtde. Emb', 'Qtde', 'Valor'] + [coluna for coluna in base_relatorio.columns if coluna not in ['Pedido', 'Tipo Pedido', 'Classificacao Pedido', 'Local_ent', 'Unid', 'Data', 'Previsao', 'Data Baixa', 'Nome Usuário', 'Fornecedor', 'Nome do Fornecedor', \n",
    "           'Cod. Produto', 'Nome do Produto', 'Departamento', 'Grupo_certo', 'Qtde. Emb', 'Qtde', 'Valor']]\n",
    "\n",
    "base_relatorio = base_relatorio[colunas]"
   ]
  },
  {
   "cell_type": "code",
   "execution_count": 311,
   "id": "ccf33ba6-d45c-4693-b6f8-0249aca1ba33",
   "metadata": {},
   "outputs": [],
   "source": [
    "renomear_colunas = {\n",
    "    'Pedido': 'PEDIDO',\n",
    "    'Classificacao Pedido': 'Classificao do pedido',\n",
    "    'Local_ent': 'LOCAL_ENT',\n",
    "    'Unid': 'N_LJ',\n",
    "    'Data': 'DT_EMISSAO',\n",
    "    'Previsao': 'DT_ENTREGA',\n",
    "    'Data Baixa': 'DT_BAIXA',\n",
    "    'Nome Usuário': 'NOME USUARIO',\n",
    "    'Fornecedor': 'COD_FORN',\n",
    "    'Nome do Fornecedor': 'DESC_FORN',\n",
    "    'Cod. Produto': 'COD_SKU',\n",
    "    'Nome do Produto': 'DESC_SKU',\n",
    "    'Departamento': 'DEP',\n",
    "    'Grupo_certo': 'GRUPO',\n",
    "    'Qtde. Emb': 'CX',\n",
    "    'Qtde': 'PED_UNIDS',\n",
    "    'Valor': 'PED_$',\n",
    "}\n",
    "base_relatorio.rename(columns=renomear_colunas, inplace=True)"
   ]
  },
  {
   "cell_type": "code",
   "execution_count": 312,
   "id": "f275e11e-909f-4192-9802-4fc9901f7de3",
   "metadata": {},
   "outputs": [],
   "source": [
    "# bases adicionais\n",
    "base_semana = pd.read_excel('Bases_externas/base_semana_anual.xlsx')\n",
    "base_rup = pd.read_excel('Bases_externas/rup.xls')\n",
    "base_agenda = pd.read_excel('Bases_externas/agenda.xls')"
   ]
  },
  {
   "cell_type": "code",
   "execution_count": 313,
   "id": "7dc81dc4-7fa8-443a-9c2a-f2d2707842bc",
   "metadata": {},
   "outputs": [],
   "source": [
    "# converte coluna 'Data' para o tipo datetime em base_semana\n",
    "base_semana['Data'] = pd.to_datetime(base_semana['Data'], format='%d/%m/%Y')"
   ]
  },
  {
   "cell_type": "code",
   "execution_count": 314,
   "id": "ae594023-faca-48c7-904d-08844ffd76e9",
   "metadata": {},
   "outputs": [],
   "source": [
    "# merge entre base_relatorio e base_semana\n",
    "base_dashboard = pd.merge(base_relatorio, base_semana[['Data', 'Semana', 'SEM']], left_on='DT_ENTREGA', right_on='Data', how='left')"
   ]
  },
  {
   "cell_type": "code",
   "execution_count": 315,
   "id": "6e904b4f-0132-4d2c-8a19-dc6e495c60e8",
   "metadata": {},
   "outputs": [],
   "source": [
    "# merge entre base_dashboard e base_rup\n",
    "base_dashboard = pd.merge(base_dashboard, base_rup[['Prod Código', 'Ruptura']], left_on='COD_SKU', right_on='Prod Código', how='left')"
   ]
  },
  {
   "cell_type": "code",
   "execution_count": 316,
   "id": "184cc939-7736-4c79-a198-7e1562a99ee0",
   "metadata": {},
   "outputs": [],
   "source": [
    "# add o '-' onde estiver NaN na coluna \"QT_LJS_RUP\"\n",
    "base_dashboard['QT_LJS_RUP'] = base_dashboard['Ruptura'].fillna('-')"
   ]
  },
  {
   "cell_type": "code",
   "execution_count": 317,
   "id": "d7cb145c-45c9-4805-a77c-3853f77301fb",
   "metadata": {},
   "outputs": [],
   "source": [
    "base_dashboard[['Prod Código', 'Ruptura']] = base_dashboard[['Prod Código', 'Ruptura']].fillna('-')"
   ]
  },
  {
   "cell_type": "code",
   "execution_count": 318,
   "id": "adbfe9a2-2406-44fd-9646-3554ff19a75a",
   "metadata": {},
   "outputs": [],
   "source": [
    "# renomeia a coluna Pedido da base_agenda\n",
    "renomear_colunas = { 'PEDIDO': 'Pedido' }\n",
    "base_agenda.rename(columns=renomear_colunas, inplace=True)"
   ]
  },
  {
   "cell_type": "code",
   "execution_count": 319,
   "id": "9c6d0afe-85bd-45be-b987-a000c41b7de7",
   "metadata": {},
   "outputs": [],
   "source": [
    "base_agenda = base_agenda.drop_duplicates(subset='Pedido') # removendo dados duplicados "
   ]
  },
  {
   "cell_type": "code",
   "execution_count": 320,
   "id": "8d44c27e-1991-4fa4-a635-c95a9f74dd5a",
   "metadata": {},
   "outputs": [],
   "source": [
    "base_agenda = base_agenda.sort_values(by='AGENDAMENTO', ascending=False)"
   ]
  },
  {
   "cell_type": "code",
   "execution_count": 321,
   "id": "fbec57ce-4559-40df-9296-f21551d6e0dc",
   "metadata": {},
   "outputs": [],
   "source": [
    "path = \"Base_relatorio/agenda.xlsx\""
   ]
  },
  {
   "cell_type": "code",
   "execution_count": 322,
   "id": "50cda609-cf47-484e-b381-b6c1d9f03354",
   "metadata": {},
   "outputs": [],
   "source": [
    "base_agenda.to_excel(path, index=False)"
   ]
  },
  {
   "cell_type": "code",
   "execution_count": 323,
   "id": "ee8e2b17-4e3c-4aad-88ff-49254107cc45",
   "metadata": {},
   "outputs": [],
   "source": [
    "# converte a coluna PEDIDO para string e remove o ponto flutuante\n",
    "base_dashboard['PEDIDO'] = base_dashboard['PEDIDO'].apply(lambda x: str(x).split('.')[0] if pd.notnull(x) else x)"
   ]
  },
  {
   "cell_type": "code",
   "execution_count": 324,
   "id": "361e9043-ad4e-4c91-8bb5-7ab97573c66e",
   "metadata": {},
   "outputs": [],
   "source": [
    "# converte a coluna Pedido de base_agenda para string\n",
    "#base_agenda['Pedido'] = base_agenda['Pedido'].astype(str)\n",
    "base_agenda['Pedido'] = base_agenda['Pedido'].apply(lambda x: str(int(x)) if not pd.isna(x) else 'nan')"
   ]
  },
  {
   "cell_type": "code",
   "execution_count": 325,
   "id": "b498d7f9-0026-4836-9041-7c501980128b",
   "metadata": {},
   "outputs": [],
   "source": [
    "# merge das bases usando a coluna PEDIDO/Pedido\n",
    "base_dashboard = pd.merge(base_dashboard, base_agenda[['Pedido', 'AGENDAMENTO']], left_on='PEDIDO', right_on='Pedido', how='left')"
   ]
  },
  {
   "cell_type": "code",
   "execution_count": 326,
   "id": "d21bcf0e-d850-416c-83da-88bfeecb7c9b",
   "metadata": {},
   "outputs": [],
   "source": [
    "# criando a coluna DT_AGENDA com base em AGENDAMENTO e DT_ENTREGA\n",
    "base_dashboard['DT_AGENDA'] = base_dashboard['AGENDAMENTO']\n",
    "# para linhas sem AGENDAMENTO, usar o mês de DT_ENTREGA\n",
    "base_dashboard.loc[base_dashboard['DT_AGENDA'].isna(), 'DT_AGENDA'] = base_dashboard['DT_ENTREGA'].dt.strftime('SEM AGENDA %b').str.upper()"
   ]
  },
  {
   "cell_type": "code",
   "execution_count": 327,
   "id": "62e00834-42e9-45ce-a30a-41236289f120",
   "metadata": {},
   "outputs": [],
   "source": [
    "# exclusão de colunas excedentes\n",
    "base_dashboard = base_dashboard.drop(\"Data\", axis=1)\n",
    "base_dashboard = base_dashboard.drop(\"Semana\", axis=1)\n",
    "base_dashboard = base_dashboard.drop(\"Prod Código\", axis=1)\n",
    "base_dashboard = base_dashboard.drop(\"Ruptura\", axis=1)\n",
    "base_dashboard = base_dashboard.drop(\"Pedido\", axis=1)\n",
    "base_dashboard = base_dashboard.drop(\"AGENDAMENTO\", axis=1)"
   ]
  },
  {
   "cell_type": "code",
   "execution_count": 328,
   "id": "e8dd8431-9b82-43a0-9e6c-18ee8863a102",
   "metadata": {},
   "outputs": [],
   "source": [
    "# ordenação final\n",
    "colunas = ['PEDIDO', 'Tipo Pedido', 'Classificao do pedido', 'LOCAL_ENT', 'N_LJ', 'SEM', 'DT_EMISSAO',\n",
    "'DT_ENTREGA', 'DT_BAIXA', 'NOME USUARIO', 'COD_FORN', 'DESC_FORN','COD_SKU','DESC_SKU','DEP', 'GRUPO', \n",
    "'CX', 'QT_LJS_RUP', 'PED_UNIDS', 'PED_$', 'DT_AGENDA'] + [coluna for coluna in base_dashboard.columns if coluna not in ['PEDIDO', \n",
    "'Tipo Pedido', 'Classificao do pedido', 'LOCAL_ENT', 'N_LJ', 'SEM', 'DT_EMISSAO', 'DT_ENTREGA', 'DT_BAIXA', 'NOME USUARIO', \n",
    "'COD_FORN', 'DESC_FORN','COD_SKU','DESC_SKU', 'DEP', 'GRUPO', 'CX', 'QT_LJS_RUP', 'PED_UNIDS', 'PED_$', 'DT_AGENDA']]\n",
    "\n",
    "base_dashboard = base_dashboard[colunas]"
   ]
  },
  {
   "cell_type": "code",
   "execution_count": 329,
   "id": "8f96739f-17b9-4cf8-8995-a61cc34ac995",
   "metadata": {},
   "outputs": [],
   "source": [
    "base_dashboard = base_dashboard.sort_values(by='PEDIDO') # ordena do menor para o maior na coluna \"PEDIDO\""
   ]
  },
  {
   "cell_type": "code",
   "execution_count": 330,
   "id": "c73489cb-cbad-4794-a70b-ae9d4ba89d9f",
   "metadata": {},
   "outputs": [],
   "source": [
    "# Função para conversão das colunas em númerico\n",
    "def convert_with_comma_to_number(val):\n",
    "    if isinstance(val, str):\n",
    "        val = val.replace(',', '').strip()\n",
    "    return pd.to_numeric(val, errors='coerce')\n",
    "\n",
    "# aplicando a função de conversão nas colunas abaixo\n",
    "base_dashboard['PEDIDO'] = base_dashboard['PEDIDO'].apply(convert_with_comma_to_number)\n",
    "base_dashboard['CX'] = base_dashboard['CX'].apply(convert_with_comma_to_number)\n",
    "base_dashboard['PED_UNIDS'] = base_dashboard['PED_UNIDS'].apply(convert_with_comma_to_number)\n",
    "base_dashboard['PED_$'] = base_dashboard['PED_$'].apply(convert_with_comma_to_number)"
   ]
  },
  {
   "cell_type": "code",
   "execution_count": 331,
   "id": "5ea3d3eb-df19-4183-b18c-fd32f1d8bfbc",
   "metadata": {},
   "outputs": [
    {
     "data": {
      "text/plain": [
       "(56067, 21)"
      ]
     },
     "execution_count": 331,
     "metadata": {},
     "output_type": "execute_result"
    }
   ],
   "source": [
    "# status da base após etapa final em linhas x colunas\n",
    "base_dashboard.shape"
   ]
  },
  {
   "cell_type": "code",
   "execution_count": 332,
   "id": "e015f267-b258-4638-a947-8567efbdfa34",
   "metadata": {},
   "outputs": [],
   "source": [
    "# caminho para salvar a base\n",
    "caminho_arquivo_xlsx = \"Base_relatorio/base_dashboard.xlsx\""
   ]
  },
  {
   "cell_type": "code",
   "execution_count": 333,
   "id": "1c596a2a-5ee5-4a60-8feb-0ce20660e4a5",
   "metadata": {},
   "outputs": [],
   "source": [
    "# salvando base tratada em excel\n",
    "base_dashboard.to_excel(caminho_arquivo_xlsx, index=False)"
   ]
  }
 ],
 "metadata": {
  "colab": {
   "provenance": []
  },
  "kernelspec": {
   "display_name": "Python 3 (ipykernel)",
   "language": "python",
   "name": "python3"
  },
  "language_info": {
   "codemirror_mode": {
    "name": "ipython",
    "version": 3
   },
   "file_extension": ".py",
   "mimetype": "text/x-python",
   "name": "python",
   "nbconvert_exporter": "python",
   "pygments_lexer": "ipython3",
   "version": "3.12.0"
  }
 },
 "nbformat": 4,
 "nbformat_minor": 5
}
