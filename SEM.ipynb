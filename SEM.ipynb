{
 "cells": [
  {
   "cell_type": "markdown",
   "id": "1a7cc8cc-22fa-4d39-983d-7193b28523ab",
   "metadata": {},
   "source": [
    "> A função abaixo gera datas conforme o range e cria uma coluna para especificar qual o dia da semana seguindo a lógica de  domingo a sabado = 1 semana"
   ]
  },
  {
   "cell_type": "code",
   "execution_count": null,
   "id": "f47ef77a-7c6a-4a65-9198-8f521696eb04",
   "metadata": {},
   "outputs": [],
   "source": [
    "import pandas as pd\n",
    "import os "
   ]
  },
  {
   "cell_type": "code",
   "execution_count": null,
   "id": "4e662773-bf30-49cf-99b2-b01490db824b",
   "metadata": {},
   "outputs": [],
   "source": [
    "def criar_base_anual():\n",
    "    # cria uma lista de datas de conforme definido abaixo\n",
    "    datas = pd.date_range(start='2024-01-01', end='2024-12-31')\n",
    "\n",
    "    # cria DataFrame com as colunas 'Data' e 'Semana'\n",
    "    df = pd.DataFrame({'Data': datas})\n",
    "\n",
    "    # add coluna 'Semana' com o número da semana\n",
    "    df['Semana'] = df['Data'].dt.strftime('%U').astype(int) + 1\n",
    "\n",
    "    # add coluna 'SEM' com o formato 'SEM_' + número da semana\n",
    "    df['SEM'] = 'SEM_' + (df['Semana'] % 55).astype(str)\n",
    "\n",
    "    # formata a coluna 'Data' para o formato dd/mm/yyyy\n",
    "    df['Data'] = df['Data'].dt.strftime('%d/%m/%Y')\n",
    "\n",
    "    return df\n",
    "\n",
    "def salvar_base_sem(df, diretorio):\n",
    "    # checa se o diretório existe, caso não exista adiciona\n",
    "    if not os.path.exists(diretorio):\n",
    "        os.makedirs(diretorio)\n",
    "\n",
    "    # checa se o arquivo já existe\n",
    "    arquivo_path = os.path.join(diretorio, 'base_semana_anual.xlsx')\n",
    "    if os.path.exists(arquivo_path):\n",
    "        # lê a base existente\n",
    "        base_existente = pd.read_excel(arquivo_path)\n",
    "\n",
    "        # concatena as bases (adicionar de um ano ao final do próximo)\n",
    "        base_final = pd.concat([base_existente, df], ignore_index=True)\n",
    "\n",
    "        # salva o DataFrame em XLSX\n",
    "        base_final.to_excel(arquivo_path, index=False)\n",
    "    else:\n",
    "        # se o arquivo não existir, salvar o DataFrame diretamente\n",
    "        df.to_excel(arquivo_path, index=False)\n",
    "\n",
    "# criar a base de dados do ano expecificado na variável 'datas'\n",
    "base_ano = criar_base_anual()\n",
    "\n",
    "# salvar a base no diretório já criado por mim em \"Base_cadastro\"\n",
    "salvar_base_sem(base_ano, 'Base_cadastro')"
   ]
  }
 ],
 "metadata": {
  "kernelspec": {
   "display_name": "Python 3 (ipykernel)",
   "language": "python",
   "name": "python3"
  },
  "language_info": {
   "codemirror_mode": {
    "name": "ipython",
    "version": 3
   },
   "file_extension": ".py",
   "mimetype": "text/x-python",
   "name": "python",
   "nbconvert_exporter": "python",
   "pygments_lexer": "ipython3",
   "version": "3.12.0"
  }
 },
 "nbformat": 4,
 "nbformat_minor": 5
}
